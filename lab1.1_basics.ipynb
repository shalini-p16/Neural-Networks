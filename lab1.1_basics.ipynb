{
 "cells": [
  {
   "cell_type": "code",
   "execution_count": null,
   "metadata": {},
   "outputs": [],
   "source": [
    "import torch\n",
    "import numpy as np\n",
    "from matplotlib import pyplot as plt"
   ]
  },
  {
   "cell_type": "code",
   "execution_count": null,
   "metadata": {},
   "outputs": [],
   "source": [
    "# Reminder of numpy\n",
    "x = np.zeros((1, 5)) # create an array with zeros\n",
    "print(x)\n",
    "x = np.ones((1, 5)) # create an array with ones\n",
    "print(x)\n",
    "x = np.array([[1,2], [3, 4]]) # create an array with specified values\n",
    "print(x)\n",
    "print(x.shape, x.shape[0], x.shape[1]) # get the shape of an array\n",
    "x = np.random.randn(4, 5) # create an array with numbers drawn from a standard normal distribution\n",
    "print(x)"
   ]
  },
  {
   "cell_type": "code",
   "execution_count": null,
   "metadata": {},
   "outputs": [],
   "source": [
    "# TO DO: create the same tensors in pytorch\n",
    "# hint: use 'torch' instead of 'np', the functions are similar\n"
   ]
  },
  {
   "cell_type": "code",
   "execution_count": null,
   "metadata": {},
   "outputs": [],
   "source": [
    "# Numpy Bridge: it's also possible to directly transform numpy arrays into pytorch tensor\n",
    "x_np = np.ones((2,3))\n",
    "print(x_np)\n",
    "x_tensor = torch.from_numpy(x_np)\n",
    "print(x_tensor)\n",
    "\n",
    "# And conversely:\n",
    "x_np = x_tensor.numpy()\n",
    "print(x_np)"
   ]
  },
  {
   "cell_type": "code",
   "execution_count": null,
   "metadata": {},
   "outputs": [],
   "source": [
    "# Another way to create a tensor filled with a given value\n",
    "x = torch.zeros((1, 5))\n",
    "x.fill_(20)\n",
    "print(x)"
   ]
  },
  {
   "cell_type": "code",
   "execution_count": null,
   "metadata": {},
   "outputs": [],
   "source": [
    "# With some functions, you can create a array without explicitly providing the shape (but instead use another tensor)\n",
    "y = torch.randn_like(x)\n",
    "print(y)"
   ]
  },
  {
   "cell_type": "code",
   "execution_count": null,
   "metadata": {},
   "outputs": [],
   "source": [
    "# Create an array of numbers from 'ind_beg' to 'ind_end' with an increment of 'step'\n",
    "ind_beg = 0\n",
    "ind_end = 10\n",
    "step = 1\n",
    "x = torch.arange(ind_beg, ind_end, step)\n",
    "print(x)"
   ]
  },
  {
   "cell_type": "code",
   "execution_count": null,
   "metadata": {},
   "outputs": [],
   "source": [
    "# Default values are 'ind_beg=0' and 'step=1' (works as 'range'): useful for loops\n",
    "list_iter = torch.arange(10)\n",
    "for i in list_iter:\n",
    "    print(i)"
   ]
  },
  {
   "cell_type": "code",
   "execution_count": null,
   "metadata": {},
   "outputs": [],
   "source": [
    "# For 'for' loops, if the object to iterate is a multivariate tensor, then it will iterate over the first dimension\n",
    "# for instance, let's assume we have a tensor containing 5 images of size 16x16\n",
    "image_data = torch.randn(10, 16, 16)\n",
    "for im in image_data:\n",
    "    plt.imshow(im)\n",
    "    plt.show()"
   ]
  },
  {
   "cell_type": "code",
   "execution_count": null,
   "metadata": {},
   "outputs": [],
   "source": [
    "# If you use 'enumerate', you can keep track of the index\n",
    "for index_im, im in enumerate(image_data):\n",
    "    print(index_im)\n",
    "    plt.imshow(im)\n",
    "    plt.show()"
   ]
  },
  {
   "cell_type": "code",
   "execution_count": null,
   "metadata": {},
   "outputs": [],
   "source": [
    "# Basic operations\n",
    "x = torch.ones((1,5))\n",
    "x.fill_(5)\n",
    "y = torch.ones((1,5))\n",
    "y.fill_(3)\n",
    "\n",
    "print(x+y)\n",
    "print(x-y)\n",
    "print(x*y)\n",
    "print(x/y)\n",
    "print(x ** y)"
   ]
  },
  {
   "cell_type": "code",
   "execution_count": null,
   "metadata": {},
   "outputs": [],
   "source": [
    "# Pytorch has some built-in basic math functions (exp, sin, cos...) that can be applied element-wise to a tensor\n",
    "x = torch.randn(2,3)\n",
    "y = torch.exp(x)\n",
    "print(y)"
   ]
  },
  {
   "cell_type": "code",
   "execution_count": null,
   "metadata": {},
   "outputs": [],
   "source": [
    "# TO DO: plot the function y=sin(x) where x ranges in [-5; 5] (with a step of 0.1)\n",
    "# reminder: use 'plt.plot(x, y)' to plot y as a function of x\n"
   ]
  },
  {
   "cell_type": "code",
   "execution_count": null,
   "metadata": {},
   "outputs": [],
   "source": [
    "# TO DO: same exercice, but add some Gaussian noise (centered, std = 0.1) to the sinus\n"
   ]
  },
  {
   "cell_type": "code",
   "execution_count": null,
   "metadata": {},
   "outputs": [],
   "source": [
    "# Slicing (same as in numpy)\n",
    "x = torch.randn(5,6)\n",
    "print(x[:3])  # slice over the first dimension\n",
    "print(x[:, :3]) # slice over the second dimension\n",
    "print(x[:3,:3]) # slice over both dimensions"
   ]
  },
  {
   "cell_type": "code",
   "execution_count": null,
   "metadata": {},
   "outputs": [],
   "source": [
    "# Tensor types in pytorch (https://pytorch.org/docs/stable/tensors.html)\n",
    "x = torch.rand(1, 10)\n",
    "print(x.dtype)\n",
    "print(x)\n",
    "\n",
    "# Change the type using the 'type' method\n",
    "x = x.type(torch.float16)\n",
    "print(x.dtype)\n",
    "print(x)\n",
    "\n",
    "x = x.type(torch.int16)\n",
    "print(x.dtype)\n",
    "print(x)\n",
    "\n",
    "# You can specify the type when creating a tensor\n",
    "x = torch.tensor(3, dtype=torch.int)\n",
    "print(x)\n"
   ]
  },
  {
   "cell_type": "code",
   "execution_count": null,
   "metadata": {},
   "outputs": [],
   "source": [
    "# Check if it's a float\n",
    "print(x.is_floating_point())\n",
    "\n",
    "pi = torch.tensor(3.14159)\n",
    "print(pi, pi.is_floating_point(), pi.dtype)"
   ]
  },
  {
   "cell_type": "code",
   "execution_count": null,
   "metadata": {},
   "outputs": [],
   "source": [
    "# Devices: two types ('cpu' and 'cuda' (=gpu))\n",
    "\n",
    "# You can check if a gpu is available (and how many)\n",
    "print(torch.cuda.is_available())\n",
    "print(torch.cuda.device_count())\n",
    "\n",
    "cpu_device = torch.device('cpu')\n",
    "cuda_device = torch.device('cuda')\n",
    "\n",
    "# By default, any tensor will be on a 'cpu' device\n",
    "x = torch.rand(1, 10)\n",
    "print(x.device)\n",
    "\n",
    "# You can change it using the 'to' method (switching to CUDA is only possible if you installed the corresponding pytorch environment)\n",
    "x = x.to(cpu_device)\n",
    "print(x.device)"
   ]
  },
  {
   "cell_type": "code",
   "execution_count": null,
   "metadata": {},
   "outputs": [],
   "source": [
    "# Reshaping tensors (transpose, reshape, view)\n",
    "x = torch.randn(8,5)\n",
    "print(x)\n",
    "\n",
    "# Transposition: use either 'x.t()' or 'x.transpose(dims)' where 'dims' specifies the new dimensions\n",
    "y = x.transpose(1,0)\n",
    "print(y)\n",
    "z = x.t()\n",
    "print(z)\n",
    "print(x.shape, y.shape, z.shape)"
   ]
  },
  {
   "cell_type": "code",
   "execution_count": null,
   "metadata": {},
   "outputs": [],
   "source": [
    "# Reshape: reorganize the tensor with the specified output dimensions (similar as numpy arrays reshape)\n",
    "y = x.reshape(10,4)\n",
    "print(y, y.shape)\n",
    "\n",
    "# You can only specify one dimension and mark the other with '-1', and it will autocomplete consistently\n",
    "z = x.reshape(-1, 10)\n",
    "print(z.shape)\n",
    "z = x.reshape(2, -1)\n",
    "print(z.shape)\n"
   ]
  },
  {
   "cell_type": "code",
   "execution_count": null,
   "metadata": {},
   "outputs": [],
   "source": [
    "# View: similar as 'reshape', but only creates a view over the tensor: if the original data is changed, then the viewed tensors also changes\n",
    "x = torch.zeros(8,5)\n",
    "y = x.view(10,4)\n",
    "print(y)\n",
    "\n",
    "x.fill_(1)\n",
    "print(y)"
   ]
  },
  {
   "cell_type": "code",
   "execution_count": null,
   "metadata": {},
   "outputs": [],
   "source": [
    "# Concatenate: useful to concatenate tensors along a specified (existing) dimension\n",
    "# Works with any tensors, provided that the dimensions over which you don't concatenate are consistent\n",
    "x1 = torch.rand(15, 64, 64)\n",
    "x2 = torch.rand(50, 64, 64)\n",
    "X_concat = torch.cat((x1,x2), dim=0)\n",
    "print(X_concat.shape)\n",
    "\n",
    "x1 = torch.rand(10, 217)\n",
    "x2 = torch.rand(10, 489)\n",
    "X_concat = torch.cat((x1,x2), dim=1)\n",
    "print(X_concat.shape)\n",
    "\n",
    "x1 = torch.rand(10, 217, 12)\n",
    "x2 = torch.rand(10, 217, 14)\n",
    "X_concat = torch.cat((x1,x2), dim=2)\n",
    "print(X_concat.shape)"
   ]
  },
  {
   "cell_type": "code",
   "execution_count": null,
   "metadata": {},
   "outputs": [],
   "source": [
    "# Squeeze and unsqueeze\n",
    "\n",
    "# If a tensor has one of his dimensions which is '1', you can get ridd of it (if needed) by squeezing the tensor\n",
    "x = torch.zeros(2, 1, 5)\n",
    "print(x.shape)\n",
    "y = x.squeeze()\n",
    "print(y.shape)\n",
    "\n",
    "# Conversely, if you want to expand a tensor by adding a new dimension, you can unsqueeze it (useful for concatenating tensors)\n",
    "x = torch.zeros(2, 5)\n",
    "print(x.shape)\n",
    "y = x.unsqueeze(1)\n",
    "print(y.shape)\n"
   ]
  },
  {
   "cell_type": "code",
   "execution_count": null,
   "metadata": {},
   "outputs": [],
   "source": [
    "# TO DO : create two image-like tensors of size 16x16 (with random values).\n",
    "# Concatenate them into a single tensor of size (2, 16, 16)\n",
    "# hint: first unsqueeze the tensors to create a new dimension, and 'cat' over this dimension\n"
   ]
  },
  {
   "cell_type": "code",
   "execution_count": null,
   "metadata": {},
   "outputs": [],
   "source": [
    "# Stack: unlike 'cat', 'stack' concatenates the tensors along a new dimension (the inputs tensors must have the same shape)\n",
    "x = torch.ones(1, 10)\n",
    "x.fill_(5)\n",
    "y = torch.ones(1, 10)\n",
    "y.fill_(20)\n",
    "print(x.shape, y.shape)\n",
    "\n",
    "z_stack = torch.stack((x, y), dim=0)\n",
    "print(z_stack.shape)\n",
    "\n",
    "# Check the difference with 'cat'\n",
    "z_cat = torch.cat((x, y), dim=0)\n",
    "print(z_cat.shape)"
   ]
  },
  {
   "cell_type": "code",
   "execution_count": null,
   "metadata": {},
   "outputs": [],
   "source": [
    "z_stack = torch.stack((x, y), dim=1)\n",
    "print(z_stack.shape)\n",
    "\n",
    "z_stack = torch.stack((x, y), dim=2)\n",
    "print(z_stack.shape)"
   ]
  },
  {
   "cell_type": "code",
   "execution_count": null,
   "metadata": {},
   "outputs": [],
   "source": [
    "# TO DO : same exercice as before (create a tensor containing 2 images), but using stack (should be simpler)\n"
   ]
  },
  {
   "cell_type": "code",
   "execution_count": null,
   "metadata": {},
   "outputs": [],
   "source": [
    "# min, max, argmin, argmax, sort\n",
    "x = torch.rand(1, 5)\n",
    "print(x)\n",
    "\n",
    "print(x.min(), x.max(), x.argmin(), x.argmax())\n",
    "\n",
    "x_sorted, ind_sort = x.sort()\n",
    "print(x_sorted, ind_sort)"
   ]
  },
  {
   "cell_type": "code",
   "execution_count": null,
   "metadata": {},
   "outputs": [],
   "source": [
    "# Save / load files: very similar to numpy (but with reversed arguments order)\n",
    "\n",
    "x_np = np.ones((2,3))\n",
    "np_filepath = 'x_np.npy'\n",
    "np.save(np_filepath, x_np)\n",
    "x_np_load = np.load(np_filepath)\n",
    "print(x_np_load)\n",
    "\n",
    "x_tensor = torch.from_numpy(x_np)\n",
    "tensor_filepath = 'x_tensor.pt'\n",
    "torch.save(x_tensor, tensor_filepath)\n",
    "x_tensor_load = torch.load(tensor_filepath)\n",
    "print(x_tensor_load)"
   ]
  },
  {
   "cell_type": "code",
   "execution_count": null,
   "metadata": {},
   "outputs": [],
   "source": [
    "# TO DO: compute and plot several functions sin(k*x) with k = [1,2,3]\n",
    "\n",
    "# create a tensor x which ranges in [0; 6] (with a step of 0.1), unsqueeze it to add a new dimension\n",
    "\n",
    "# create a tensor k_list with values [1, 2, 3]\n",
    "\n",
    "# initialize an empty tensor y_tot which will contain all the data (hint: use torch.empty_like)\n",
    "\n",
    "for k in k_list:\n",
    "    # compute y=sin(k*x)\n",
    "    \n",
    "    # use torch.cat to concatenate y with y_tot\n",
    "    \n",
    "# Remove the first elements of y_tot (which are empty)\n",
    "\n",
    "# plot the functions\n"
   ]
  },
  {
   "cell_type": "code",
   "execution_count": null,
   "metadata": {},
   "outputs": [],
   "source": [
    "# TO DO: Compute the weighted sum of these functions: S(x) = sum_k 1/k sin(k*x)\n",
    "# plot it and save it in a .pt file and as a np array\n",
    "# hint: use the torch.sum function (https://pytorch.org/docs/stable/generated/torch.sum.html)\n"
   ]
  }
 ],
 "metadata": {
  "kernelspec": {
   "display_name": "Python 3",
   "language": "python",
   "name": "python3"
  },
  "language_info": {
   "codemirror_mode": {
    "name": "ipython",
    "version": 3
   },
   "file_extension": ".py",
   "mimetype": "text/x-python",
   "name": "python",
   "nbconvert_exporter": "python",
   "pygments_lexer": "ipython3",
   "version": "3.6.9"
  }
 },
 "nbformat": 4,
 "nbformat_minor": 4
}
